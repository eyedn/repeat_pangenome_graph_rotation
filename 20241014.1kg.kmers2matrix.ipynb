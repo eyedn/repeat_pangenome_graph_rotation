{
 "cells": [
  {
   "cell_type": "markdown",
   "id": "7b6377ad",
   "metadata": {},
   "source": [
    "- This notebook demonstrates how to convert kmer genotype matrix to motif genotype matrix\n",
    "    - In the previous preprocessing step, I computed the correspondence from kmer to motif.\n",
    "      So once I have a kmer matrix, where each row is a kmer and each col is a sample,\n",
    "      I can simply do row operations to get the motif dosage.\n",
    "    - It takes about 10 min to compute each batch of data in `compute_gt_cgt_batch`.\n",
    "      You could speed it up by moving the code to a Python script and using SLURM's array job.\n",
    "      Just optional. \n",
    "    - Watch out for memory usage and remmeber to allocate enough mem for your compute node,\n",
    "      otherwise ipython kernel would die\n",
    "- With motif genotype matrix, we can then perform LD pruning over motifs\n",
    "    - Add another function to save in tsv.gz format instead of pikcle for portability\n",
    "    - Use PLINK or write your own code given certain LD threshold\n",
    "- Data structure in this notebook that can be useful for LD pruning\n",
    "    - `ccki_tr`: cumulative number of canonical compressed kmer (cck) per TR locus\n",
    "        - cck is equivalent to motif in our definition\n",
    "        - vector of size NTR (Number of TR loci)\n",
    "        - retrieve # of cck in each locus `i` by\n",
    "            - `ccki_tr[i] -  ccki_tr[i-1]` if i > 0\n",
    "            - `ccki_tr[i]` if i == 0\n",
    "        - we will need this to perform LD pruning for each locus, or a block in the matrix"
   ]
  },
  {
   "cell_type": "code",
   "execution_count": null,
   "id": "3269272d",
   "metadata": {},
   "outputs": [],
   "source": [
    "#!/usr/bin/env python3\n",
    "import sys\n",
    "srcdir = \"/project/mchaisso_100/cmb-16/tsungyul/work/vntr/danbing-tk/script/\"\n",
    "sys.path.insert(0, srcdir)"
   ]
  },
  {
   "cell_type": "code",
   "execution_count": 2,
   "id": "30c9faed-6d10-451b-b8fb-ee67737cbae3",
   "metadata": {},
   "outputs": [],
   "source": [
    "import numpy as np\n",
    "import pandas as pd\n",
    "import vntrutils as vu\n",
    "import utils\n",
    "import matplotlib\n",
    "import matplotlib.pyplot as plt\n",
    "from collections import defaultdict\n",
    "from collections import Counter\n",
    "import pickle\n",
    "import itertools\n",
    "import gc\n",
    "import glob\n",
    "import os\n",
    "import statsmodels.api as sm\n",
    "import gzip\n",
    "from sklearn.metrics import r2_score\n",
    "import seaborn as sns\n",
    "\n",
    "matplotlib.rc('font', size=7)\n",
    "matplotlib.rc('axes', titlesize=7)\n",
    "matplotlib.rc('xtick', labelsize=5)\n",
    "matplotlib.rc('ytick', labelsize=5)\n",
    "%load_ext autoreload\n",
    "%autoreload 2"
   ]
  },
  {
   "cell_type": "code",
   "execution_count": 6,
   "id": "a6ffe4bf-9047-4c6a-9f30-34a727d89596",
   "metadata": {},
   "outputs": [],
   "source": [
    "def get_1(file_path):\n",
    "    with open(file_path, 'rb') as f:\n",
    "        ki_tr, ccki_tr = pickle.load(f)\n",
    "    return ki_tr, ccki_tr\n",
    "\n",
    "def get_2(file_path):\n",
    "    with open(file_path, 'rb') as f:\n",
    "        ks, ccks, tr_cck_ns, ki_map = pickle.load(f)\n",
    "    tr_cck_ns = np.array(tr_cck_ns)\n",
    "    return ks, ccks, tr_cck_ns, ki_map\n",
    "\n",
    "def gather_motifs(gt_HPRC, NCCK, NB, out_dir):\n",
    "    genomes = np.loadtxt(gt_HPRC, dtype=object)\n",
    "    ng = genomes.size\n",
    "    BS = ng//NB\n",
    "    \n",
    "    print(BS, ng, NB)\n",
    "    cgt = np.zeros([NCCK,ng], dtype=np.float32)\n",
    "    for i in range(NB):\n",
    "        print(f\"Loading batch {i+1}\")\n",
    "        BS_ = BS if i != NB-1 else ng - BS*i\n",
    "        si = i*BS\n",
    "        ei = i*BS + BS_\n",
    "        with open(f\"{out_dir}/cgt.{i}.pickle\", 'rb') as f:\n",
    "            cgt[:,si:ei] = pickle.load(f)\n",
    "    return cgt\n",
    "\n",
    "def adjust_coverage(cgt, gt_HPRC, HPRC_chr1_cov, out_dir):\n",
    "    print(\"Loading coverage...\")\n",
    "    genomes = np.loadtxt(gt_HPRC, dtype=object)\n",
    "    cov = np.array([float(c) for g, c in np.loadtxt(HPRC_chr1_cov, dtype=object) if g in genomes])\n",
    "    print(\"Computing acgt...\")\n",
    "    cgt /= cov\n",
    "    print(\"Dumping acgt\")\n",
    "    with open(f\"{out_dir}/acgt.pickle\", 'wb') as f:\n",
    "        pickle.dump(cgt, f, protocol=pickle.HIGHEST_PROTOCOL)\n",
    "    return cgt\n",
    "\n",
    "def compute_ld_r2(acgt, ccki_tr, ccks, r2_cutoff):\n",
    "    # keep track of which variants have been pruned\n",
    "    NL = len(ccki_tr)\n",
    "    NM = len(ccks)\n",
    "    pruned = np.zeros(NM, dtype=bool)\n",
    "    print(NM)\n",
    "    print(\"Pruning...\")\n",
    "    # for i in range(NL):\n",
    "    for i in range(10):\n",
    "        locus_s = ccki_tr[i-1] if i != 0 else 0\n",
    "        locus_e = ccki_tr[i]\n",
    "        if pruned[locus_s]:\n",
    "            continue\n",
    "        while locus_s != locus_e:\n",
    "            locus_m = locus_s + 1\n",
    "            while locus_m <= locus_e:\n",
    "                if not pruned[locus_m]:\n",
    "                    r2 = r2_score(acgt[locus_s], acgt[locus_m])\n",
    "                    if r2 > r2_cutoff:\n",
    "                        pruned[locus_m] = True\n",
    "                    # print(locus_s, locus_m, locus_e, r2, r2 > r2_cutoff)\n",
    "                locus_m += 1\n",
    "            locus_s += 1\n",
    "        if (i + 1) % 2 == 0:\n",
    "            print(f\"{i+1} loci pruned\")\n",
    "    return pruned"
   ]
  },
  {
   "cell_type": "code",
   "execution_count": 7,
   "id": "b090dc66-f1dd-4c75-aac4-ce8594fd0839",
   "metadata": {},
   "outputs": [],
   "source": [
    "get_1_file=\"/project/mchaisso_100/cmb-17/vntr_genotyping/rpgg2_k21_84k/hprc/full.v1/output8/cdbg/ki_tr.ccki_tr.pickle\"\n",
    "get_2_file=\"/project/mchaisso_100/cmb-17/vntr_genotyping/rpgg2_k21_84k/hprc/full.v1/output8/cdbg/ks.ccks.tr_cck_ns.ki_map.pickle\"\n",
    "gt_HPRC=\"/project/mchaisso_100/cmb-17/vntr_genotyping/aydin/LD_prune/input/genomes.txt\"\n",
    "HPRC_chr1_cov=\"/project/mchaisso_100/cmb-17/vntr_genotyping/aydin/LD_prune/input/1kg_all.cov.tsv\"\n",
    "out=\"/scratch1/tsungyul/aydin/k2m_output\"\n",
    "\n",
    "ki_tr, ccki_tr = get_1(get_1_file)\n",
    "ks, ccks, tr_cck_ns, ki_map = get_2(get_2_file)\n",
    "\n",
    "NK = len(ks)\n",
    "NCCK = len(ccks)\n",
    "NB = 40"
   ]
  },
  {
   "cell_type": "markdown",
   "id": "99e155bc-fbdb-4a12-90fb-5e16129419a0",
   "metadata": {},
   "source": [
    "# IL dosage"
   ]
  },
  {
   "cell_type": "code",
   "execution_count": null,
   "id": "9fd1e2f2-1242-48d4-a9ac-2ea38980ebf8",
   "metadata": {},
   "outputs": [],
   "source": [
    "# acgt = None\n",
    "# if os.path.exists(f\"{out}/acgt.pickle\"):\n",
    "#     print(\"acgt file found\")\n",
    "#     with open(f\"{out}/acgt.pickle\", 'rb') as f:\n",
    "#         acgt =  pickle.load(f)\n",
    "# else:\n",
    "#     print(\"acgt file not found\")\n",
    "#     cgt = gather_motifs(gt_HPRC, NCCK, NB, out)\n",
    "#     acgt =  adjust_coverage(cgt, gt_HPRC, HPRC_chr1_cov, out)\n",
    "cgt = gather_motifs(gt_HPRC, NCCK, NB, out)\n",
    "acgt =  adjust_coverage(cgt, gt_HPRC, HPRC_chr1_cov, out)"
   ]
  },
  {
   "cell_type": "code",
   "execution_count": null,
   "id": "45a83dd6-4cb5-4cad-950e-1656a410c78e",
   "metadata": {},
   "outputs": [],
   "source": [
    "r2_cutoff = 0.8\n",
    "cck_pruned = compute_ld_r2(acgt, ccki_tr, ccks, r2_cutoff)"
   ]
  },
  {
   "cell_type": "code",
   "execution_count": null,
   "id": "f8b03e3f-68ed-40f4-b26b-469dffa569a4",
   "metadata": {},
   "outputs": [],
   "source": [
    "np.unique(cck_pruned[:ccki_tr[9]], return_counts = True)"
   ]
  }
 ],
 "metadata": {
  "kernelspec": {
   "display_name": "Python 3 (ipykernel)",
   "language": "python",
   "name": "python3"
  },
  "language_info": {
   "codemirror_mode": {
    "name": "ipython",
    "version": 3
   },
   "file_extension": ".py",
   "mimetype": "text/x-python",
   "name": "python",
   "nbconvert_exporter": "python",
   "pygments_lexer": "ipython3",
   "version": "3.9.18"
  }
 },
 "nbformat": 4,
 "nbformat_minor": 5
}
