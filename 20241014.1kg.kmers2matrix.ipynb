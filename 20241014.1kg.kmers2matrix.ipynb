{
 "cells": [
  {
   "cell_type": "code",
   "execution_count": 1,
   "id": "0454fc3d-a999-4f1a-afa8-a7fec5fc3b64",
   "metadata": {},
   "outputs": [],
   "source": [
    "#!/usr/bin/env python3\n",
    "import sys\n",
    "srcdir = \"/project/mchaisso_100/cmb-16/tsungyul/work/vntr/danbing-tk/script/\"\n",
    "sys.path.insert(0, srcdir)"
   ]
  },
  {
   "cell_type": "code",
   "execution_count": 2,
   "id": "30c9faed-6d10-451b-b8fb-ee67737cbae3",
   "metadata": {},
   "outputs": [],
   "source": [
    "import numpy as np\n",
    "import pandas as pd\n",
    "import vntrutils as vu\n",
    "import utils\n",
    "# import scipy.stats as stats\n",
    "import matplotlib\n",
    "import matplotlib.pyplot as plt\n",
    "%matplotlib inline\n",
    "\n",
    "import seaborn as sns\n",
    "# %load_ext autoreload\n",
    "# %autoreload 2"
   ]
  },
  {
   "cell_type": "code",
   "execution_count": 3,
   "id": "c2ac7627-ce5b-4001-9084-87b10d9a8f24",
   "metadata": {},
   "outputs": [],
   "source": [
    "from collections import defaultdict\n",
    "import pickle\n",
    "# import networkx as nx\n",
    "# import pygraphviz\n",
    "# import collections\n",
    "import gc\n",
    "import glob\n",
    "# import warnings\n",
    "import statsmodels.api as sm\n",
    "# from statsmodels.stats.multitest import fdrcorrection as fdr\n",
    "# from scipy import stats\n",
    "import gzip\n",
    "# from sklearn.decomposition import PCA\n",
    "# from scipy.stats import chi2\n",
    "# import re\n",
    "# import json"
   ]
  },
  {
   "cell_type": "code",
   "execution_count": 4,
   "id": "1439470a-88f4-4d71-91eb-cf215baaf3fb",
   "metadata": {},
   "outputs": [],
   "source": [
    "matplotlib.rc('font', size=7)\n",
    "matplotlib.rc('axes', titlesize=7)\n",
    "matplotlib.rc('xtick', labelsize=5)\n",
    "matplotlib.rc('ytick', labelsize=5)\n",
    "%load_ext autoreload\n",
    "%autoreload 2"
   ]
  },
  {
   "cell_type": "markdown",
   "id": "ff9b4d47-fd85-49b1-bc64-e6436d9e2fb7",
   "metadata": {},
   "source": [
    "- This notebook demonstrates how to convert kmer genotype matrix to motif genotype matrix\n",
    "    - In the previous preprocessing step, I computed the correspondence from kmer to motif.\n",
    "      So once I have a kmer matrix, where each row is a kmer and each col is a sample,\n",
    "      I can simply do row operations to get the motif dosage.\n",
    "    - It takes about 10 min to compute each batch of data in `compute_gt_cgt_batch`.\n",
    "      You could speed it up by moving the code to a Python script and using SLURM's array job.\n",
    "      Just optional. \n",
    "    - Watch out for memory usage and remmeber to allocate enough mem for your compute node,\n",
    "      otherwise ipython kernel would die\n",
    "- With motif genotype matrix, we can then perform LD pruning over motifs\n",
    "    - Add another function to save in tsv.gz format instead of pikcle for portability\n",
    "    - Use PLINK or write your own code given certain LD threshold\n",
    "- Data structure in this notebook that can be useful for LD pruning\n",
    "    - `ccki_tr`: cumulative number of canonical compressed kmer (cck) per TR locus\n",
    "        - cck is equivalent to motif in our definition\n",
    "        - vector of size NTR (Number of TR loci)\n",
    "        - retrieve # of cck in each locus `i` by\n",
    "            - `ccki_tr[i] -  ccki_tr[i-1]` if i > 0\n",
    "            - `ccki_tr[i]` if i == 0\n",
    "        - we will need this to perform LD pruning for each locus, or a block in the matrix"
   ]
  },
  {
   "cell_type": "code",
   "execution_count": 5,
   "id": "b06193f7-785b-4ab4-abad-dbcf33ec7f47",
   "metadata": {},
   "outputs": [],
   "source": [
    "def test():\n",
    "    with open(\"/project/mchaisso_100/cmb-17/vntr_genotyping/rpgg2_k21_84k/hprc/full.v1/output8/cdbg/ki_tr.ccki_tr.pickle\", 'rb') as f:\n",
    "        ki_tr, ccki_tr = pickle.load(f)\n",
    "    return ki_tr, ccki_tr\n",
    "ki_tr, ccki_tr = test()"
   ]
  },
  {
   "cell_type": "code",
   "execution_count": 6,
   "id": "a6ffe4bf-9047-4c6a-9f30-34a727d89596",
   "metadata": {},
   "outputs": [],
   "source": [
    "def test():\n",
    "    fn = \"/project/mchaisso_100/cmb-17/vntr_genotyping/rpgg2_k21_84k/hprc/full.v1/output8/cdbg/ks.ccks.tr_cck_ns.ki_map.pickle\"\n",
    "    with open(fn, 'rb') as f:\n",
    "        ks, ccks, tr_cck_ns, ki_map = pickle.load(f)\n",
    "    tr_cck_ns = np.array(tr_cck_ns)\n",
    "    return ks, ccks, tr_cck_ns, ki_map\n",
    "ks, ccks, tr_cck_ns, ki_map = test()"
   ]
  },
  {
   "cell_type": "code",
   "execution_count": 7,
   "id": "b090dc66-f1dd-4c75-aac4-ce8594fd0839",
   "metadata": {},
   "outputs": [],
   "source": [
    "NK = len(ks)\n",
    "NCCK = len(ccks)\n",
    "NB = 20"
   ]
  },
  {
   "cell_type": "markdown",
   "id": "99e155bc-fbdb-4a12-90fb-5e16129419a0",
   "metadata": {},
   "source": [
    "# IL dosage"
   ]
  },
  {
   "cell_type": "code",
   "execution_count": 15,
   "id": "374a0f0a-69cc-4ddd-b461-3f40fedaa2c6",
   "metadata": {
    "scrolled": true,
    "tags": []
   },
   "outputs": [
    {
     "name": "stdout",
     "output_type": "stream",
     "text": [
      "computing cgt...      0        1        2        3        4        5        6        7        \\\n",
      "0     8334.0   3681.0   1403.0   4778.0   5492.0      0.0   1680.0      0.0   \n",
      "1    13370.0   5627.0   2169.0   7074.0   9045.0      1.0   2441.0      0.0   \n",
      "2     7517.0   3232.0   1225.0   3364.0   5234.0      0.0   1817.0      0.0   \n",
      "3    10541.0   4556.0   1877.0   4533.0   7136.0      0.0   1563.0      0.0   \n",
      "4     9098.0   3829.0   1529.0   3504.0   6226.0      0.0   1569.0      0.0   \n",
      "..       ...      ...      ...      ...      ...      ...      ...      ...   \n",
      "155   9071.0   3491.0   1478.0   5382.0   4974.0      0.0   2175.0      0.0   \n",
      "156   8655.0   3471.0   1340.0   5517.0   5229.0      0.0   2023.0      0.0   \n",
      "157   9162.0   3500.0   1309.0   5505.0   5641.0      0.0   2200.0      0.0   \n",
      "158   8026.0   3883.0   1300.0   3261.0   6441.0      0.0   2092.0      4.0   \n",
      "159   7590.0   2896.0   1154.0   4011.0   4564.0      0.0   1498.0      0.0   \n",
      "\n",
      "     8        9        ...  1572564  1572565  1572566  1572567  1572568  \\\n",
      "0        0.0   1499.0  ...    297.0    269.0    231.0      0.0    317.0   \n",
      "1        0.0   2009.0  ...    356.0    295.0    307.0      0.0    434.0   \n",
      "2        0.0   1628.0  ...    159.0    122.0    123.0      0.0    159.0   \n",
      "3        0.0   1866.0  ...    108.0      0.0    218.0      0.0    140.0   \n",
      "4        0.0   1624.0  ...    346.0    195.0    312.0      0.0    374.0   \n",
      "..       ...      ...  ...      ...      ...      ...      ...      ...   \n",
      "155      0.0   2062.0  ...    364.0    258.0    418.0      0.0    500.0   \n",
      "156      0.0   1678.0  ...    397.0    259.0    196.0    422.0    495.0   \n",
      "157      0.0   1730.0  ...    207.0    233.0    171.0      0.0    228.0   \n",
      "158      0.0   2027.0  ...    201.0      0.0    189.0    224.0    282.0   \n",
      "159      0.0   1263.0  ...     50.0      0.0    111.0      0.0     68.0   \n",
      "\n",
      "     1572569  1572570  1572571  1572572  1572573  \n",
      "0      106.0    134.0     58.0    502.0      3.0  \n",
      "1      120.0    153.0     53.0    417.0      4.0  \n",
      "2       54.0     48.0     28.0    139.0      2.0  \n",
      "3       36.0     77.0     48.0    393.0      6.0  \n",
      "4      132.0    127.0     63.0    270.0     11.0  \n",
      "..       ...      ...      ...      ...      ...  \n",
      "155    117.0    206.0     93.0    912.0      5.0  \n",
      "156    132.0     57.0    110.0    819.0      8.0  \n",
      "157     84.0    112.0     39.0    522.0      0.0  \n",
      "158     69.0     32.0     74.0    457.0     11.0  \n",
      "159     12.0     32.0     23.0    188.0      2.0  \n",
      "\n",
      "[160 rows x 1572574 columns]\n",
      "dumping gt... dumping cgt...\n",
      "batch 3: loading gt... "
     ]
    },
    {
     "ename": "KeyboardInterrupt",
     "evalue": "",
     "output_type": "error",
     "traceback": [
      "\u001b[0;31m---------------------------------------------------------------------------\u001b[0m",
      "\u001b[0;31mKeyboardInterrupt\u001b[0m                         Traceback (most recent call last)",
      "Cell \u001b[0;32mIn[15], line 35\u001b[0m\n\u001b[1;32m     32\u001b[0m             pickle\u001b[38;5;241m.\u001b[39mdump(cgt, f, protocol\u001b[38;5;241m=\u001b[39mpickle\u001b[38;5;241m.\u001b[39mHIGHEST_PROTOCOL)\n\u001b[1;32m     34\u001b[0m get_ipython()\u001b[38;5;241m.\u001b[39msystem(\u001b[38;5;124m'\u001b[39m\u001b[38;5;124mmkdir -p /scratch1/tsungyul/n30488.hprc.full/1kg/gt_pickle\u001b[39m\u001b[38;5;124m'\u001b[39m)\n\u001b[0;32m---> 35\u001b[0m \u001b[43mcompute_gt_cgt_batch\u001b[49m\u001b[43m(\u001b[49m\u001b[43m)\u001b[49m\n",
      "Cell \u001b[0;32mIn[15], line 20\u001b[0m, in \u001b[0;36mcompute_gt_cgt_batch\u001b[0;34m()\u001b[0m\n\u001b[1;32m     18\u001b[0m gt \u001b[38;5;241m=\u001b[39m np\u001b[38;5;241m.\u001b[39mzeros([BS_, NK], dtype\u001b[38;5;241m=\u001b[39mnp\u001b[38;5;241m.\u001b[39mint32)\n\u001b[1;32m     19\u001b[0m \u001b[38;5;28;01mfor\u001b[39;00m j \u001b[38;5;129;01min\u001b[39;00m \u001b[38;5;28mrange\u001b[39m(BS_):\n\u001b[0;32m---> 20\u001b[0m     \u001b[43mload_single_gt\u001b[49m\u001b[43m(\u001b[49m\u001b[43mkmerfs\u001b[49m\u001b[43m[\u001b[49m\u001b[43mi\u001b[49m\u001b[38;5;241;43m*\u001b[39;49m\u001b[43mBS\u001b[49m\u001b[38;5;241;43m+\u001b[39;49m\u001b[43mj\u001b[49m\u001b[43m]\u001b[49m\u001b[43m,\u001b[49m\u001b[43m \u001b[49m\u001b[43mgt\u001b[49m\u001b[43m,\u001b[49m\u001b[43m \u001b[49m\u001b[43mj\u001b[49m\u001b[43m)\u001b[49m\n\u001b[1;32m     21\u001b[0m \u001b[38;5;28mprint\u001b[39m(\u001b[38;5;124mf\u001b[39m\u001b[38;5;124m\"\u001b[39m\u001b[38;5;124mcomputing cgt... \u001b[39m\u001b[38;5;124m\"\u001b[39m, end\u001b[38;5;241m=\u001b[39m\u001b[38;5;124m\"\u001b[39m\u001b[38;5;124m\"\u001b[39m)\n\u001b[1;32m     22\u001b[0m cgt \u001b[38;5;241m=\u001b[39m np\u001b[38;5;241m.\u001b[39mzeros([BS_,NCCK], dtype\u001b[38;5;241m=\u001b[39mnp\u001b[38;5;241m.\u001b[39mfloat32)\n",
      "Cell \u001b[0;32mIn[15], line 4\u001b[0m, in \u001b[0;36mload_single_gt\u001b[0;34m(fn, gt, i)\u001b[0m\n\u001b[1;32m      2\u001b[0m \u001b[38;5;28;01mwith\u001b[39;00m \u001b[38;5;28mopen\u001b[39m(fn) \u001b[38;5;28;01mas\u001b[39;00m f:\n\u001b[1;32m      3\u001b[0m     j \u001b[38;5;241m=\u001b[39m \u001b[38;5;241m0\u001b[39m\n\u001b[0;32m----> 4\u001b[0m     \u001b[38;5;28;01mfor\u001b[39;00m line \u001b[38;5;129;01min\u001b[39;00m f:\n\u001b[1;32m      5\u001b[0m         gt[i,j] \u001b[38;5;241m=\u001b[39m \u001b[38;5;28mint\u001b[39m(line)\n\u001b[1;32m      6\u001b[0m         j \u001b[38;5;241m+\u001b[39m\u001b[38;5;241m=\u001b[39m \u001b[38;5;241m1\u001b[39m\n",
      "File \u001b[0;32m~/.conda/envs/nb/envs/nb1/lib/python3.9/codecs.py:319\u001b[0m, in \u001b[0;36mBufferedIncrementalDecoder.decode\u001b[0;34m(self, input, final)\u001b[0m\n\u001b[1;32m    314\u001b[0m \u001b[38;5;28;01mdef\u001b[39;00m \u001b[38;5;21m_buffer_decode\u001b[39m(\u001b[38;5;28mself\u001b[39m, \u001b[38;5;28minput\u001b[39m, errors, final):\n\u001b[1;32m    315\u001b[0m     \u001b[38;5;66;03m# Overwrite this method in subclasses: It must decode input\u001b[39;00m\n\u001b[1;32m    316\u001b[0m     \u001b[38;5;66;03m# and return an (output, length consumed) tuple\u001b[39;00m\n\u001b[1;32m    317\u001b[0m     \u001b[38;5;28;01mraise\u001b[39;00m \u001b[38;5;167;01mNotImplementedError\u001b[39;00m\n\u001b[0;32m--> 319\u001b[0m \u001b[38;5;28;01mdef\u001b[39;00m \u001b[38;5;21mdecode\u001b[39m(\u001b[38;5;28mself\u001b[39m, \u001b[38;5;28minput\u001b[39m, final\u001b[38;5;241m=\u001b[39m\u001b[38;5;28;01mFalse\u001b[39;00m):\n\u001b[1;32m    320\u001b[0m     \u001b[38;5;66;03m# decode input (taking the buffer into account)\u001b[39;00m\n\u001b[1;32m    321\u001b[0m     data \u001b[38;5;241m=\u001b[39m \u001b[38;5;28mself\u001b[39m\u001b[38;5;241m.\u001b[39mbuffer \u001b[38;5;241m+\u001b[39m \u001b[38;5;28minput\u001b[39m\n\u001b[1;32m    322\u001b[0m     (result, consumed) \u001b[38;5;241m=\u001b[39m \u001b[38;5;28mself\u001b[39m\u001b[38;5;241m.\u001b[39m_buffer_decode(data, \u001b[38;5;28mself\u001b[39m\u001b[38;5;241m.\u001b[39merrors, final)\n",
      "\u001b[0;31mKeyboardInterrupt\u001b[0m: "
     ]
    }
   ],
   "source": [
    "def load_single_gt(fn, gt, i1):\n",
    "    with open(fn) as f:\n",
    "        i0 = 0\n",
    "        for line in f:\n",
    "            gt[i0,i1] = int(line)\n",
    "            i0 += 1\n",
    "    \n",
    "def compute_gt_cgt_batch():\n",
    "    kmerfs = sorted(glob.glob(\"/scratch1/tsungyul/n30488.hprc.full/1kg/genotype/*.tr.kmers\"))\n",
    "    ng = len(kmerfs)\n",
    "    print(ng, NK, NCCK)\n",
    "    \n",
    "    BS = ng // NB\n",
    "    for i in range(NB):\n",
    "        BS_ = BS if i != NB-1 else ng - BS*i\n",
    "        print(f\"batch {i}: loading gt... \", end=\"\")\n",
    "        #gt = np.zeros([BS_, NK], dtype=np.int32)\n",
    "        gt = np.zeros([NK, BS_], dtype=np.int32)\n",
    "        for j in range(BS_):\n",
    "            load_single_gt(kmerfs[i*BS+j], gt, j)\n",
    "        print(f\"computing cgt... \", end=\"\")\n",
    "        #cgt = np.zeros([BS_,NCCK], dtype=np.float32)\n",
    "        cgt = np.zeros([NCCK, BS_], dtype=np.float32)\n",
    "        for i0, i1 in ki_map.items():\n",
    "            cgt[i1] += gt[i0]\n",
    "        print(pd.DataFrame(cgt))\n",
    "        cgt /= tr_cck_ns[:,None]\n",
    "        print(\"dumping gt... \", end=\"\")\n",
    "        with open(f\"/scratch1/tsungyul/n30488.hprc.full/1kg/gt_pickle/gt.{i}.pickle\", 'wb') as f:\n",
    "            pickle.dump(gt, f, protocol=pickle.HIGHEST_PROTOCOL)\n",
    "        print(\"dumping cgt...\")\n",
    "        with open(f\"/scratch1/tsungyul/n30488.hprc.full/1kg/gt_pickle/cgt.{i}.pickle\", 'wb') as f:\n",
    "            pickle.dump(cgt, f, protocol=pickle.HIGHEST_PROTOCOL)\n",
    "\n",
    "!mkdir -p /scratch1/tsungyul/n30488.hprc.full/1kg/gt_pickle\n",
    "compute_gt_cgt_batch()"
   ]
  },
  {
   "cell_type": "code",
   "execution_count": null,
   "id": "9fd1e2f2-1242-48d4-a9ac-2ea38980ebf8",
   "metadata": {},
   "outputs": [],
   "source": [
    "def test():\n",
    "    # correct coverage, sex chrom dosage unadjusted\n",
    "    genomes = np.loadtxt(\"../input/genomes.1kg_plus_related.gt_HPRC.txt\", dtype=object)\n",
    "    ng = genomes.size\n",
    "    g2i = dict([[g,i] for i, g in enumerate(genomes)])\n",
    "    cov = np.array([float(c) for g, c in np.loadtxt(\"../input/HPRC.chr1.cov.tsv\", dtype=object) if g in genomes])\n",
    "\n",
    "    print(\"Loading cgt\", end=\"\")\n",
    "    BS = ng//NB\n",
    "    cgt = np.zeros([NCCK,ng], dtype=np.float32)\n",
    "    for i in range(NB):\n",
    "        print(f\".\",end=\"\")\n",
    "        BS_ = BS if i != NB-1 else ng - BS*i\n",
    "        with open(f\"/scratch1/tsungyul/n30488.hprc.full/1kg/gt_pickle/cgt.{i}.pickle\", 'rb') as f:\n",
    "            si = i*BS\n",
    "            ei = i*BS + BS_\n",
    "            cgt[:,si:ei] = pickle.load(f)\n",
    "    print()\n",
    "    print(\"Computing acgt\")\n",
    "    acgt = np.zeros_like(cgt, dtype=np.float32)\n",
    "    acgt = cgt / cov\n",
    "    print(\"Dumping acgt\")\n",
    "    with open(\"/scratch1/tsungyul/n30488.hprc.full/1kg/gt_pickle/acgt.pickle\", 'wb') as f:\n",
    "        pickle.dump(acgt, f, protocol=pickle.HIGHEST_PROTOCOL)\n",
    "    return acgt\n",
    "\n",
    "ilcgt = test()"
   ]
  },
  {
   "cell_type": "code",
   "execution_count": null,
   "id": "45a83dd6-4cb5-4cad-950e-1656a410c78e",
   "metadata": {},
   "outputs": [],
   "source": [
    "ilcgt =  pickle.load(open(\"/scratch1/tsungyul/n30488.hprc.full/1kg/gt_pickle/acgt.pickle\", 'rb'))"
   ]
  },
  {
   "cell_type": "code",
   "execution_count": null,
   "id": "f8b03e3f-68ed-40f4-b26b-469dffa569a4",
   "metadata": {},
   "outputs": [],
   "source": [
    "ilcgt.shape"
   ]
  }
 ],
 "metadata": {
  "kernelspec": {
   "display_name": "Python 3 (ipykernel)",
   "language": "python",
   "name": "python3"
  },
  "language_info": {
   "codemirror_mode": {
    "name": "ipython",
    "version": 3
   },
   "file_extension": ".py",
   "mimetype": "text/x-python",
   "name": "python",
   "nbconvert_exporter": "python",
   "pygments_lexer": "ipython3",
   "version": "3.9.18"
  }
 },
 "nbformat": 4,
 "nbformat_minor": 5
}
